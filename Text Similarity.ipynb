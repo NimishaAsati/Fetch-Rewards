{
 "cells": [
  {
   "cell_type": "markdown",
   "metadata": {},
   "source": [
    "#### Program that takes as inputs two texts and uses a metric to determine how similar they are:"
   ]
  },
  {
   "cell_type": "code",
   "execution_count": 19,
   "metadata": {},
   "outputs": [],
   "source": [
    "import math \n",
    "import string \n",
    "import sys\n",
    "import matplotlib\n",
    "import matplotlib.pyplot as plt"
   ]
  },
  {
   "cell_type": "code",
   "execution_count": 20,
   "metadata": {},
   "outputs": [
    {
     "name": "stdout",
     "output_type": "stream",
     "text": [
      "Enter first text: The easiest way to earn points with Fetch Rewards is to just shop for the products you already love. If you have any participating brands on your receipt, you'll get points based on the cost of the products. You don't need to clip any coupons or scan individual barcodes. Just scan each grocery receipt after you shop and we'll find the savings for you.\n",
      "\n",
      "\n",
      "Enter second text: The easiest way to earn points with Fetch Rewards is to just shop for the items you already buy. If you have any eligible brands on your receipt, you will get points based on the total cost of the products. You do not need to cut out any coupons or scan individual UPCs. Just scan your receipt after you check out and we will find the savings for you.\n"
     ]
    }
   ],
   "source": [
    "#Input two texts\n",
    "\n",
    "text1 = input(\"Enter first text: \")\n",
    "print(\"\\n\")\n",
    "text2 = input(\"Enter second text: \")\n",
    "\n",
    "#Sample Texts provided\n",
    "#text1=\"The easiest way to earn points with Fetch Rewards is to just shop for the products you already love. If you have any participating brands on your receipt, you'll get points based on the cost of the products. You don't need to clip any coupons or scan individual barcodes. Just scan each grocery receipt after you shop and we'll find the savings for you.\"\n",
    "#text2=\"The easiest way to earn points with Fetch Rewards is to just shop for the items you already buy. If you have any eligible brands on your receipt, you will get points based on the total cost of the products. You do not need to cut out any coupons or scan individual UPCs. Just scan your receipt after you check out and we will find the savings for you.\""
   ]
  },
  {
   "cell_type": "markdown",
   "metadata": {},
   "source": [
    "#### Pre-process the data"
   ]
  },
  {
   "cell_type": "code",
   "execution_count": 21,
   "metadata": {},
   "outputs": [],
   "source": [
    "#PRE-PROCESSING\n",
    "\n",
    "# 1. Convert text into lowercase\n",
    "\n",
    "def text_to_lower(text):\n",
    "    text = text.lower()\n",
    "    return text\n",
    "#text\n",
    "\n",
    "# 2. Remove Punctuations \n",
    "\n",
    "remove_punctuation = str.maketrans('','',string.punctuation)\n",
    "\n",
    "def split_remove_punctuation(text):\n",
    "    text = text.translate(remove_punctuation)\n",
    "    return text\n",
    "\n",
    "\n",
    "# 3. Split the text into words AND Remove Stop Words \n",
    "\n",
    "def remove_stop_words(text):\n",
    "    stopwords = ['what', 'who', 'is', 'a', 'at', 'is', 'he', 'to', 'the', 'if', 'you', 'an']\n",
    "    words_list = text.split()\n",
    "\n",
    "    resultwords  = [word for word in words_list if word not in stopwords]\n",
    "    text = ' '.join(resultwords)\n",
    "    text = text.split()\n",
    "    \n",
    "    return text\n",
    "\n",
    "#text\n",
    "\n",
    "\n",
    "# 4. Count frequency of each word \n",
    "# Returns a dictionary which maps the words to its frequency\n",
    "\n",
    "def count_frequency(word_list):  \n",
    "      \n",
    "    D = {} \n",
    "      \n",
    "    for each_word in word_list: \n",
    "        if each_word in D: \n",
    "            D[each_word] = D[each_word] + 1\n",
    "              \n",
    "        else: \n",
    "            D[each_word] = 1\n",
    "              \n",
    "    return D "
   ]
  },
  {
   "cell_type": "code",
   "execution_count": 22,
   "metadata": {},
   "outputs": [],
   "source": [
    "# Function to plot and analyze the text\n",
    "\n",
    "def plot(a,b):\n",
    "    labels = ['Stop Words','Non Stop Words']\n",
    "    sizes = [a,b]\n",
    "    \n",
    "    fig, ax = plt.subplots()\n",
    "    ax.pie(sizes, labels = labels, autopct = '%1.1f%%',shadow=True)\n",
    "    ax.set_title('Percentage of stop words in the text')\n",
    "    #plt.show()\n",
    "    \n",
    "    return (plt.show())"
   ]
  },
  {
   "cell_type": "code",
   "execution_count": 29,
   "metadata": {},
   "outputs": [],
   "source": [
    "#Function to perform Pre-processing\n",
    "\n",
    "def pre_process(text):  \n",
    "      \n",
    "    full_text = text\n",
    "    full_text = text_to_lower(full_text)\n",
    "    words_from_text = split_remove_punctuation(full_text)\n",
    "    all_words = remove_stop_words(words_from_text)\n",
    "    count_words = count_frequency(all_words)\n",
    "    \n",
    "    print(\"---------------------------------------------------------------------------------\")\n",
    "    print(\"Reading input text\")\n",
    "    print(\"---------------------------------------------------------------------------------\")\n",
    "    print(\"Total Words: \",len(full_text.split())) \n",
    "    #print(\"Count after removing punctuations: \", len(words_from_text.split()))\n",
    "    plot(len(full_text.split())-len(all_words),len(all_words))\n",
    "    \n",
    "    print(\"After Preprocessing \\n\")\n",
    "    #print(\"Text after preprocessing: \", all_words)\n",
    "    #print(count_words.keys()) \n",
    "    print(\"Count after removing Stop Words: \", len(all_words)) \n",
    "    print(\"Distinct Words: \", len(count_words)) \n",
    "    print(\"\\n\")\n",
    "    \n",
    "    return count_words "
   ]
  },
  {
   "cell_type": "markdown",
   "metadata": {},
   "source": [
    "#### Calculate Similairty between the texts"
   ]
  },
  {
   "cell_type": "code",
   "execution_count": 30,
   "metadata": {},
   "outputs": [],
   "source": [
    "# Calculate similarity between texts\n",
    "# intersection will find the common words between both the texts \n",
    "# Calculated similarity using Jaccard similarity which is intersection divided by union of texts\n",
    "\n",
    "def calculate_similarity(str1, str2): \n",
    "    a = set(text1)\n",
    "    b = set(text2)\n",
    "    c = a.intersection(b)\n",
    "    return float(len(c)) / (len(a) + len(b) - len(c))\n"
   ]
  },
  {
   "cell_type": "code",
   "execution_count": 31,
   "metadata": {},
   "outputs": [],
   "source": [
    "  def Text_similarity(a, b): \n",
    "      \n",
    "    #text1 = \"The easiest way to earn points with Fetch Rewards is to just shop for the products you already love. If you have any participating brands on your receipt, you'll get points based on the cost of the products. You don't need to clip any coupons or scan individual barcodes. Just scan each grocery receipt after you shop and we'll find the savings for you.\"\n",
    "    #text2 = \"The easiest way to earn points with Fetch Rewards is to just shop for the items you already buy. If you have any eligible brands on your receipt, you will get points based on the total cost of the products. You do not need to cut out any coupons or scan individual UPCs. Just scan your receipt after you check out and we will find the savings for you.\"\n",
    "    #text2 = \"We are always looking for opportunities for you to earn more points, which is why we also give you a selection of Special Offers. These Special Offers are opportunities to earn bonus points on top of the regular points you earn every time you purchase a participating brand. No need to pre-select these offers, we'll give you the points whether or not you knew about the offer. We just think it is easier that way.\" \n",
    "    words_1 = pre_process(a) \n",
    "    words_2 = pre_process(b) \n",
    "    similiarity = calculate_similarity(words_1, words_2) \n",
    "      \n",
    "    print(\"---------------------------------------------------------------------------------\")\n",
    "    print(\"OUTPUT\")\n",
    "    print(\"SIMILARITY between both the texts is: % 0.3f \"% similiarity) \n"
   ]
  },
  {
   "cell_type": "code",
   "execution_count": 32,
   "metadata": {},
   "outputs": [
    {
     "name": "stdout",
     "output_type": "stream",
     "text": [
      "---------------------------------------------------------------------------------\n",
      "Reading input text\n",
      "---------------------------------------------------------------------------------\n",
      "Total Words:  64\n"
     ]
    },
    {
     "data": {
      "image/png": "[encoded data removed]",
      "text/plain": [
       "<Figure size 432x288 with 1 Axes>"
      ]
     },
     "metadata": {},
     "output_type": "display_data"
    },
    {
     "name": "stdout",
     "output_type": "stream",
     "text": [
      "After Preprocessing \n",
      "\n",
      "Count after removing Stop Words:  49\n",
      "Distinct Words:  40\n",
      "\n",
      "\n",
      "---------------------------------------------------------------------------------\n",
      "Reading input text\n",
      "---------------------------------------------------------------------------------\n",
      "Total Words:  69\n"
     ]
    },
    {
     "data": {
      "image/png": "[encoded data removed]",
      "text/plain": [
       "<Figure size 432x288 with 1 Axes>"
      ]
     },
     "metadata": {},
     "output_type": "display_data"
    },
    {
     "name": "stdout",
     "output_type": "stream",
     "text": [
      "After Preprocessing \n",
      "\n",
      "Count after removing Stop Words:  53\n",
      "Distinct Words:  43\n",
      "\n",
      "\n",
      "---------------------------------------------------------------------------------\n",
      "OUTPUT\n",
      "SIMILARITY between both the texts is:  0.833 \n"
     ]
    }
   ],
   "source": [
    "# Driver code \n",
    "Text_similarity(text1, text2)"
   ]
  },
  {
   "cell_type": "code",
   "execution_count": null,
   "metadata": {},
   "outputs": [],
   "source": []
  }
 ],
 "metadata": {
  "kernelspec": {
   "display_name": "Python 3",
   "language": "python",
   "name": "python3"
  },
  "language_info": {
   "codemirror_mode": {
    "name": "ipython",
    "version": 3
   },
   "file_extension": ".py",
   "mimetype": "text/x-python",
   "name": "python",
   "nbconvert_exporter": "python",
   "pygments_lexer": "ipython3",
   "version": "3.7.3"
  }
 },
 "nbformat": 4,
 "nbformat_minor": 2
}
